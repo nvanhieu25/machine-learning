{
 "cells": [
  {
   "cell_type": "markdown",
   "id": "dd7bb61b-8fbb-4a18-ad04-cac99d8cafa6",
   "metadata": {},
   "source": [
    "Đạo hàm và các yếu tố toán học cần thiết:"
   ]
  },
  {
   "cell_type": "code",
   "execution_count": 2,
   "id": "1649c93f-917b-44c6-a5b1-b0d54ea48b02",
   "metadata": {},
   "outputs": [],
   "source": [
    "def fx(x):\n",
    "    return 2*x -1\n",
    "\n",
    "def gf(f):\n",
    "    return (f-3)**2\n",
    "\n",
    "def dg_dx(x):\n",
    "    return 8*x - 16"
   ]
  },
  {
   "cell_type": "code",
   "execution_count": 3,
   "id": "de1855dc-a839-480b-81c8-5ec38b932f29",
   "metadata": {},
   "outputs": [
    {
     "data": {
      "text/plain": [
       "36"
      ]
     },
     "execution_count": 3,
     "metadata": {},
     "output_type": "execute_result"
    }
   ],
   "source": [
    "x0 = 5\n",
    "\n",
    "gx_value = gf(fx(x0))\n",
    "\n",
    "gx_value"
   ]
  },
  {
   "cell_type": "code",
   "execution_count": 4,
   "id": "b9b81c25-0e20-4399-a9d5-053db7415e13",
   "metadata": {},
   "outputs": [
    {
     "name": "stdout",
     "output_type": "stream",
     "text": [
      "24\n",
      "30.470399999999994\n"
     ]
    }
   ],
   "source": [
    "dg_dx0 = dg_dx(x0)\n",
    "print(dg_dx0)\n",
    "\n",
    "x1 = x0 - 0.01 * dg_dx0\n",
    "print(gf(fx(x1)))"
   ]
  },
  {
   "cell_type": "code",
   "execution_count": 7,
   "id": "d6f3a7c1-7900-4f0d-a7a4-96237f9cf49d",
   "metadata": {},
   "outputs": [
    {
     "name": "stdout",
     "output_type": "stream",
     "text": [
      "-41\n",
      "x = -41, g(x) = 7396\n",
      "x = -6.600000000000001, g(x) = 295.8400000000001\n",
      "x = 0.28000000000000025, g(x) = 11.833599999999997\n",
      "x = 1.6560000000000001, g(x) = 0.4733439999999996\n",
      "x = 1.9312, g(x) = 0.018933759999999984\n"
     ]
    }
   ],
   "source": [
    "import random\n",
    "\n",
    "lr = 0.1\n",
    "steps = 5\n",
    "\n",
    "x = random.randint(-100,100)\n",
    "print(x)\n",
    "for i in range (steps):\n",
    "    #logging\n",
    "    loss = gf(fx(x))\n",
    "    print(f'x = {x}, g(x) = {loss}')\n",
    "    \n",
    "    #derivative\n",
    "    dg_dx_value = dg_dx(x)\n",
    "\n",
    "    #update\n",
    "    x = x - lr*dg_dx_value\n",
    "\n"
   ]
  },
  {
   "cell_type": "code",
   "execution_count": 16,
   "id": "a3144948-ccbc-4f56-84d3-86d8b5f2423d",
   "metadata": {},
   "outputs": [],
   "source": [
    "x1 = -2\n",
    "y1 = -1\n",
    "\n",
    "x2 = 5\n",
    "y2 = 13"
   ]
  },
  {
   "cell_type": "code",
   "execution_count": 21,
   "id": "5e28adf4-dde3-44ba-9da8-e29ea3382853",
   "metadata": {},
   "outputs": [],
   "source": [
    "def predict(x,a,b):\n",
    "    return a*x + b\n",
    "\n",
    "a = -1\n",
    "b = 6\n",
    "\n",
    "predicted_y1 = predict(x1,a,b)\n",
    "dg_da = 2*x1*(predicted_y1 - y1)\n",
    "dg_db = 2 * (predicted_y1 - y1)\n",
    "a = a - 0.01*dg_da\n",
    "b = b - 0.01*dg_db"
   ]
  },
  {
   "cell_type": "code",
   "execution_count": 18,
   "id": "0de92de7-de34-4ed0-b5bd-7f69fda9047b",
   "metadata": {},
   "outputs": [],
   "source": [
    "#update a\n",
    "dg_da = 2*x1*(predicted_y1 - y1)\n",
    "dg_db = 2 * (predicted_y1 - y1)\n",
    "a = a - 0.01*dg_da\n",
    "b = b - 0.01*dg_db"
   ]
  },
  {
   "cell_type": "code",
   "execution_count": 22,
   "id": "e0e39e68-5aff-4fe4-ac5b-81c2f3fbb1d6",
   "metadata": {},
   "outputs": [],
   "source": [
    "predicted_y2 = predict(x2,a,b)\n",
    "dg_da = 2*x2*(predicted_y2 - y2)\n",
    "dg_db = 2 * (predicted_y2 - y2)\n",
    "a = a - 0.01*dg_da\n",
    "b = b - 0.01*dg_db"
   ]
  },
  {
   "cell_type": "markdown",
   "id": "f4f8a263-0f84-49b2-932d-726d3014bf3f",
   "metadata": {},
   "source": [
    "Linear Regression with out Vectorization\n"
   ]
  },
  {
   "cell_type": "code",
   "execution_count": 25,
   "id": "265f34f6-0247-4731-b9aa-dd06ea05923d",
   "metadata": {},
   "outputs": [
    {
     "name": "stdout",
     "output_type": "stream",
     "text": [
      "a : -1.8485543381121795e+69\n",
      "b : -2.029199294686255e+68\n"
     ]
    }
   ],
   "source": [
    "import random\n",
    "\n",
    "def predict_func(x,a,b):\n",
    "    return a*x+b\n",
    "\n",
    "numsteps = 100\n",
    "learning_rate = 0.01\n",
    "\n",
    "x1 = -2\n",
    "y1 = -1\n",
    "\n",
    "x2 = 5\n",
    "y2 = 13\n",
    "\n",
    "a = random.random()*10.0 - 5.0\n",
    "b = random.random()*10.0 - 5.0\n",
    "\n",
    "for i in range(numsteps):\n",
    "    predict_y1 = predict_func(x1, a, b)\n",
    "    predict_y2 = predict_func(x2, a, b)\n",
    "\n",
    "    g_value1 = (predict_y1 - y1)**2\n",
    "    g_value2 = (predict_y2 - y2)**2\n",
    "    \n",
    "    dg_da = 2 * x1 *(predict_y1 - y1) + 2* x2 *(predict_y2 - y2)\n",
    "    dg_db = 2*(predict_y1 - y1) + 2*(predict_y2 - y2)\n",
    "\n",
    "    a = a - lr*dg_da\n",
    "    b = b - lr*dg_db\n",
    "print(f'a : {a}')\n",
    "print(f'b : {b}')"
   ]
  },
  {
   "cell_type": "code",
   "execution_count": null,
   "id": "ee5391ad-b087-413b-af0b-1031b8705cc8",
   "metadata": {},
   "outputs": [],
   "source": []
  }
 ],
 "metadata": {
  "kernelspec": {
   "display_name": "Python 3 (ipykernel)",
   "language": "python",
   "name": "python3"
  },
  "language_info": {
   "codemirror_mode": {
    "name": "ipython",
    "version": 3
   },
   "file_extension": ".py",
   "mimetype": "text/x-python",
   "name": "python",
   "nbconvert_exporter": "python",
   "pygments_lexer": "ipython3",
   "version": "3.11.7"
  }
 },
 "nbformat": 4,
 "nbformat_minor": 5
}
