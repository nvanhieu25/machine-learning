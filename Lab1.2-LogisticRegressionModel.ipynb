{
 "cells": [
  {
   "cell_type": "markdown",
   "id": "d0a38f8a-cd6e-4369-8f65-54e9fa9538e4",
   "metadata": {},
   "source": [
    "<center>\n",
    "    <img src=\"https://fpt.edu.vn/Resources/brand/uploads/749540_132829686029858301_o.jpg\" width=\"300\" alt=\"cognitiveclass.ai logo\"  />\n",
    "</center>\n",
    "\n",
    "# Programming Exercise 1: Logistic regression\n",
    "\n",
    "\n"
   ]
  },
  {
   "cell_type": "markdown",
   "id": "ee9c800a-ca1d-4e09-a20e-7957400ccde1",
   "metadata": {},
   "source": [
    "<br>\n",
    "\n",
    "### Class name: ______________________\n",
    "\n",
    "### Student code: ____________________\n",
    "\n",
    "### Student name: ___________________\n",
    "\n",
    "<br>"
   ]
  },
  {
   "cell_type": "markdown",
   "id": "4454b5e3-049b-44bf-8020-26253b7b6291",
   "metadata": {},
   "source": [
    "# Introduction\n",
    "\n",
    "In this exercise, you will implement logistic regression and apply it to two\n",
    "different datasets. Before starting on the programming exercise, we strongly\n",
    "recommend watching the video lectures and completing the review questions\n",
    "for the associated topics.\n",
    "\n",
    "## Logistic Regression \n",
    "\n",
    "In this part of the exercise, you will build a logistic regression model to predict whether a student gets admitted into a university. Suppose that you are the administrator of a university department and you want to determine each applicant’s chance of admission based on their results on two exams. You have historical data from previous applicants that you can use as a training set for logistic regression. For each training example, you have the applicant’s scores on two exams and the admissions decision. Your task is to build a classification model that estimates an applicant’s probability of admission based the scores from those two exams. This outline and the framework code in Ex2.ipynb will guide you through the exercise.\n",
    "| Exam 1 score | Exam 2 score | Admitted |\n",
    "|--------------|--------------|----------|\n",
    "|34.62365962451697|78.0246928153624|0|\n",
    "|30.28671076822607|43.89499752400101|0|\n",
    "|35.84740876993872|72.90219802708364|0|\n",
    "|60.18259938620976|86.30855209546826|1|\n",
    "|79.0327360507101|75.3443764369103|1|\n",
    "|45.08327747668339|56.3163717815305|0|\n",
    "|61.10666453684766|96.51142588489624|1|.4764\t4.3483\n"
   ]
  },
  {
   "cell_type": "code",
   "execution_count": 24,
   "id": "9ffcb2cd-b293-47c3-af7b-9e79c5bf7316",
   "metadata": {
    "tags": []
   },
   "outputs": [],
   "source": [
    "# Import libraries\n",
    "import numpy as np\n",
    "import pandas as pd\n",
    "import matplotlib.pyplot as plt\n",
    "import math"
   ]
  },
  {
   "cell_type": "markdown",
   "id": "6ce4ae52-3f77-4e30-9c99-f8819c7534a4",
   "metadata": {},
   "source": [
    "# <p style=\"text-align:center; color:purple;\">꧁༺༒ Part 1: Loading and normalization data ༒༻꧂</p>"
   ]
  },
  {
   "cell_type": "code",
   "execution_count": 4,
   "id": "1de54f11-f3b7-4732-add6-d222f6a1fa35",
   "metadata": {
    "tags": []
   },
   "outputs": [
    {
     "name": "stdout",
     "output_type": "stream",
     "text": [
      "Number of feature(s) n = 2\n",
      "Number of training examples m = 100\n",
      "The top 10 training examples:\n",
      "   score 1     score 2    admitted\n",
      "[[34.62365962 78.02469282  0.        ]\n",
      " [30.28671077 43.89499752  0.        ]\n",
      " [35.84740877 72.90219803  0.        ]\n",
      " [60.18259939 86.3085521   1.        ]\n",
      " [79.03273605 75.34437644  1.        ]\n",
      " [45.08327748 56.31637178  0.        ]\n",
      " [61.10666454 96.51142588  1.        ]\n",
      " [75.02474557 46.55401354  1.        ]\n",
      " [76.0987867  87.42056972  1.        ]\n",
      " [84.43281996 43.53339331  1.        ]]\n"
     ]
    }
   ],
   "source": [
    "## Load Data\n",
    "#  The first two columns contains the exam scores and the third column\n",
    "#  contains the label.\n",
    "data = np.genfromtxt(\"data.csv\",delimiter=\",\")\n",
    "\n",
    "# X include all dataset except the last column(target label)\n",
    "# So, we need to delete the last column\n",
    "X = np.delete(data, -1, axis=1)\n",
    "\n",
    "m = X.shape[0] # number of training examples\n",
    "n = X.shape[1] # number of feature\n",
    "y = data[:, -1].reshape(m, 1)\n",
    "print(f'Number of feature(s) n = {n}')\n",
    "print(f'Number of training examples m = {m}')\n",
    "print('The top 10 training examples:')\n",
    "print('   score 1     score 2    admitted')\n",
    "print(data[0:10])"
   ]
  },
  {
   "cell_type": "code",
   "execution_count": 6,
   "id": "7ed27e12-07c6-48cb-a08f-057088d7c853",
   "metadata": {},
   "outputs": [],
   "source": [
    "# Graded Question 1 (2 points):\n",
    "# Normalization input feature\n",
    "def normalization(x):\n",
    "    # ====================== YOUR CODE START HERE ======================\n",
    "    mu = np.mean(x, axis = 0)\n",
    "    sigma = np.std(x, axis = 0)\n",
    "    x_norm = (x - mu)/sigma\n",
    "    # ====================== YOUR CODE END HERE ======================\n",
    "    return x_norm, mu, sigma"
   ]
  },
  {
   "cell_type": "code",
   "execution_count": 8,
   "id": "766b348b-0e4e-43a0-90fd-257bd86999a3",
   "metadata": {},
   "outputs": [
    {
     "name": "stdout",
     "output_type": "stream",
     "text": [
      "\u001b[6;30;42mTest passed!\u001b[0m\n"
     ]
    }
   ],
   "source": [
    "# Testing for normalization()\n",
    "\n",
    "v = [1, 10, 100, 1000, 10000]\n",
    "v_norm, mu, sigma = normalization(v)\n",
    "assert np.allclose(v_norm, np.array([-0.56853297, -0.56622936, -0.54319317, -0.31283135,  1.99078685]))\n",
    "assert mu == 2222.2\n",
    "assert np.allclose(sigma, 3906.8974084303773)\n",
    "\n",
    "print('\\x1b[6;30;42m' + 'Test passed!' + '\\x1b[0m')"
   ]
  },
  {
   "cell_type": "markdown",
   "id": "ac47951e-c48b-4fb3-bb29-ef7e19d08a97",
   "metadata": {},
   "source": [
    "## Visualizing the data \n",
    "Before starting to implement any learning algorithm, it is always good to visualize the data if possible. In the first part of ex2.m, the code will load the data and display it on a 2-dimensional plot by calling the function plotData. \n",
    "\n",
    "You will now complete the code in plotData() function so that it displays a figure like the figure in test cell below, where the axes are the two exam scores, and the positive and negative examples are shown with different markers."
   ]
  },
  {
   "cell_type": "code",
   "execution_count": 10,
   "id": "963443e8-eb3a-4202-9ca5-96d31d327136",
   "metadata": {},
   "outputs": [],
   "source": [
    "def plotData(X, y):\n",
    "    pos = np.where(y == 1)\n",
    "    neg = np.where(y == 0)\n",
    "    pos_example = np.take(X, pos[0], axis=0)\n",
    "    neg_example = np.take(X, neg[0], axis=0)\n",
    "    # ====================== YOUR CODE START HERE ======================\n",
    "    plt.plot(pos_example[:, 0], pos_example[:, 1], 'r+', markersize=8)\n",
    "    plt.plot(neg_example[:, 0], neg_example[:, 1], 'bo')\n",
    "    # Labels x and y axis\n",
    "    plt.xlabel('Exam 1 score')\n",
    "    plt.ylabel('Exam 2 score')\n",
    "\n",
    "    # Specified legend in plot order\n",
    "    plt.legend(['Admitted', 'Not admitted'], loc='upper right');\n",
    "    # ====================== YOUR CODE END HERE ======================"
   ]
  },
  {
   "cell_type": "code",
   "execution_count": 12,
   "id": "5afbf482-0ab4-4f1b-964c-09f2f39deefc",
   "metadata": {
    "tags": []
   },
   "outputs": [
    {
     "name": "stdout",
     "output_type": "stream",
     "text": [
      "Plotting data with \n",
      "      + indicating (y = 1) examples \n",
      "      o indicating (y = 0) examples.\n",
      "\n"
     ]
    },
    {
     "data": {
      "image/png": "[encoded data removed]",
      "text/plain": [
       "<Figure size 640x480 with 1 Axes>"
      ]
     },
     "metadata": {},
     "output_type": "display_data"
    }
   ],
   "source": [
    "# Testing plotData() function\n",
    "print('Plotting data with \\n\\\n",
    "      + indicating (y = 1) examples \\n\\\n",
    "      o indicating (y = 0) examples.\\n')\n",
    "\n",
    "plotData(X, y)"
   ]
  },
  {
   "cell_type": "markdown",
   "id": "c8ddcf28-0809-43b0-8de2-22dd8331c392",
   "metadata": {},
   "source": [
    "# <p style=\"text-align:center; color:purple;\">꧁༺༒ Part 2: Calculate cost function ༒༻꧂</p>"
   ]
  },
  {
   "cell_type": "code",
   "execution_count": 14,
   "id": "855a203f-8a96-4c0f-9cb5-d666284426d0",
   "metadata": {},
   "outputs": [
    {
     "name": "stdout",
     "output_type": "stream",
     "text": [
      "(100, 3)\n"
     ]
    }
   ],
   "source": [
    "# Just run this cell for setup the data matrix appropriately, \n",
    "# and add bias parameter for the intercept term\n",
    "m, n = X.shape\n",
    "X_train, mu, sigma = normalization(X)\n",
    "# Add intercept term to X_train\n",
    "X_train = np.append(np.ones((m, 1)), X_train, axis=1) # Add a column of ones to x\n",
    "print(X_train.shape)"
   ]
  },
  {
   "cell_type": "markdown",
   "id": "4c729111-8ca0-4b17-9640-a637ee85efc2",
   "metadata": {},
   "source": [
    "### Sigmoid function\n",
    "Before you start with the actual cost function, recall that the logistic regression hypothesis is defined as:\n",
    "\\begin{aligned}\n",
    "h_{\\theta}(x) = g(\\theta^Tx)\n",
    "\\end{aligned}\n",
    "where function g is the sigmoid function. The sigmoid function is defined as:\n",
    "\\begin{aligned}\n",
    "g(z) = \\dfrac{1}{1 + e^{-z}}\n",
    "\\end{aligned}"
   ]
  },
  {
   "cell_type": "code",
   "execution_count": 34,
   "id": "6ded4bcf-22e4-4f4d-abb9-f6bf07fca1d1",
   "metadata": {
    "tags": []
   },
   "outputs": [],
   "source": [
    "# Graded Question 3 (1 points):\n",
    "def sigmoid(z):\n",
    "    #SIGMOID Compute sigmoid function\n",
    "    #   g = SIGMOID(z) computes the sigmoid of z.\n",
    "    # ====================== YOUR CODE HERE ======================\n",
    "    # Instructions: Compute the sigmoid of each value of z (z can be a matrix,\n",
    "    #               vector or scalar).\n",
    "    return  1/(1+ np.exp(-z))\n",
    "    # ============================================================="
   ]
  },
  {
   "cell_type": "code",
   "execution_count": 36,
   "id": "d85cce33-f4cc-43db-9390-0dae1e211141",
   "metadata": {},
   "outputs": [
    {
     "name": "stdout",
     "output_type": "stream",
     "text": [
      "\u001b[6;30;42mTest passed!\u001b[0m\n"
     ]
    }
   ],
   "source": [
    "# Testing sigmoid(z) function\n",
    "assert np.allclose(sigmoid(-0.5), 0.3775407)\n",
    "assert sigmoid(0) == 0.5\n",
    "assert np.allclose(sigmoid(10), 0.9999546)\n",
    "print('\\x1b[6;30;42m' + 'Test passed!' + '\\x1b[0m')"
   ]
  },
  {
   "cell_type": "markdown",
   "id": "e2b6c448-fa03-4a58-be73-77cffa8fa551",
   "metadata": {},
   "source": [
    "### Cost function and gradient\n",
    "Now you will implement the cost function and gradient for logistic regression. Complete the code in `costFunction(theta, X, y)` to return the cost and gradient.\n",
    "Recall that the cost function in logistic regression is:\n",
    "\n",
    "\\begin{aligned}\n",
    "J(\\theta) = -\\dfrac{1}{m}\\sum_{i=1}^m\\left[y^{(i)}log(h_\\theta(x^{(i)})) + (1-y^{(i)})log(1- h_\\theta(x^{(i)}))\\right]\n",
    "\\end{aligned}\n",
    "\n",
    "and the gradient of the cost is a vector of the same length as $\\theta$ where the $j^{th}$ element (for $j=0,1,...,n$) is defined as follows:\n",
    "\\begin{aligned}\n",
    "\\dfrac{\\partial J(\\theta)}{\\partial \\theta_j} = \\dfrac{1}{m}\\sum_{i=1}^m \\left(h_\\theta(x^{(i)})-y^{(i)} \\right) x_j^{(i)}\n",
    "\\end{aligned}\n",
    "\n",
    "Note that while this gradient looks identical to the linear regression gradient, the formula is actually different because linear and logistic regression have different definitions of \n",
    " $h_\\theta(x)$.:"
   ]
  },
  {
   "cell_type": "code",
   "execution_count": 40,
   "id": "6c52f09f-7d96-4e0f-ac05-dd89ceb05d3b",
   "metadata": {},
   "outputs": [],
   "source": [
    "# Graded Question 4 (2 points):\n",
    "def costFunction(theta, X, y):\n",
    "    #COSTFUNCTION Compute cost and gradient for logistic regression\n",
    "    #   J = COSTFUNCTION(theta, X, y) computes the cost of using theta as the\n",
    "    #   parameter for logistic regression and the gradient of the cost\n",
    "    #   w.r.t. to the parameters.\n",
    "\n",
    "    # Initialize some useful values\n",
    "    m = X.shape[0] # number of training examples\n",
    "    n = X.shape[1] # number of training examples\n",
    "    # You need to return the following variables correctly \n",
    "    J = 0\n",
    "    grad = np.zeros(theta.shape) \n",
    "\n",
    "    # ====================== YOUR CODE START HERE ======================\n",
    "    # Instructions: Compute the cost of a particular choice of theta.\n",
    "    #               You should set J to the cost.\n",
    "    #               Compute the partial derivatives and set grad to the partial\n",
    "    #               derivatives of the cost w.r.t. each parameter in theta\n",
    "    #\n",
    "    # Note: grad should have the same dimensions as theta\n",
    "    h = sigmoid(np.dot(X, theta))\n",
    "    J = (-1 / m) * (np.dot(y.T, np.log(h)) + np.dot((1 - y).T, np.log(1 - h)))\n",
    "    grad = (1 / m) * np.dot(X.T, (h - y))\n",
    "    # ======================= YOUR CODE END HERE =======================\n",
    "    J = np.squeeze(J)\n",
    "    grad = grad.reshape(n,1) #np.squeeze(grad)#\n",
    "    return J, grad\n"
   ]
  },
  {
   "cell_type": "code",
   "execution_count": 42,
   "id": "58173a19-65f7-4085-8e72-a3d21224a2cc",
   "metadata": {},
   "outputs": [
    {
     "name": "stdout",
     "output_type": "stream",
     "text": [
      "\u001b[6;30;42mTest passed!\u001b[0m\n"
     ]
    }
   ],
   "source": [
    "# Testing for costFunction()\n",
    "theta = np.zeros((n + 1, 1))\n",
    "J, grad = costFunction(theta, X_train, y)\n",
    "assert np.allclose(J, 0.6931471805599452)\n",
    "assert np.allclose(grad, [[ -0.1 ], [-0.28122914], [-0.25098615]])\n",
    "\n",
    "theta = np.array([-24, 0.2, 0.2]).reshape(3,1)\n",
    "J, grad = costFunction(theta, X_train, y)\n",
    "assert np.allclose(J, 14.29355694378611)\n",
    "assert np.allclose(grad, [[ -0.6 ], [-0.28122914], [-0.25098615]])\n",
    "\n",
    "print('\\x1b[6;30;42m' + 'Test passed!' + '\\x1b[0m')"
   ]
  },
  {
   "cell_type": "markdown",
   "id": "97bfbc12-88f0-482d-b6a2-205256d95b4c",
   "metadata": {},
   "source": [
    "# <p style=\"text-align:center; color:purple;\">꧁༺༒ Part 3: Gradient descent for Logistic Regression ༒༻꧂</p>"
   ]
  },
  {
   "cell_type": "markdown",
   "id": "51647731-5889-46f3-9369-75d011e348b9",
   "metadata": {},
   "source": [
    "Use the `costFunction(theta, X, y)` function defined above to calculate the cost function and the derivative of the cost function. Then use the derivative of the cost function to update the value of the theta parameters using the formula:\n",
    "\\begin{aligned}\n",
    "\\theta_j = \\theta_j - \\alpha * \\dfrac{\\partial J(\\theta)}{\\partial \\theta_j}\n",
    "\\end{aligned}\n",
    "The value of the cost function will be saved in the J_history array to serve the purpose of ploting the change of the cost function according to the training iterations."
   ]
  },
  {
   "cell_type": "code",
   "execution_count": 44,
   "id": "ba675518-5eea-4df8-aacc-53c0b9b2b5a6",
   "metadata": {
    "tags": []
   },
   "outputs": [],
   "source": [
    "# Graded Question 5 (2 points):\n",
    "def gradientDescent(X, y, theta, alpha, num_iters):\n",
    "    #GRADIENTDESCENTMULTI Performs gradient descent to learn theta\n",
    "    #   theta = GRADIENTDESCENTMULTI(x, y, theta, alpha, num_iters) updates theta by\n",
    "    #   taking num_iters gradient steps with learning rate alpha\n",
    "\n",
    "    # Initialize some useful values\n",
    "    m = len(y)  # number of training examples\n",
    "    J_history = np.zeros((num_iters, 1))\n",
    "    n = X.shape[0] # number of features\n",
    "    for i in range(num_iters):\n",
    "        # ====================== YOUR CODE START HERE ======================\n",
    "        # Instructions: Perform a single gradient step on the parameter vector\n",
    "        #               theta. \n",
    "        #\n",
    "        # Hint: While debugging, it can be useful to print out the values\n",
    "        #       of the cost function (computeCostMulti) and gradient here.\n",
    "        #\n",
    "        cost, grad = costFunction(theta, X, y)\n",
    "        # Update parameter theta\n",
    "        theta = theta - alpha * grad\n",
    "        # ======================= YOUR CODE END HERE =======================\n",
    "        # Save the cost J in every iteration \n",
    "        J_history[i] = cost\n",
    "    return theta, J_history"
   ]
  },
  {
   "cell_type": "code",
   "execution_count": 46,
   "id": "72e0f822-ef0b-4824-9347-e5e3518c38d8",
   "metadata": {
    "tags": []
   },
   "outputs": [
    {
     "name": "stdout",
     "output_type": "stream",
     "text": [
      "\n",
      "Running Gradient Descent ...\n",
      "\n",
      "Theta found by gradient descent: [1.27071379 3.04735849 2.81165934]\n",
      "\u001b[6;30;42mTest passed!\u001b[0m\n"
     ]
    }
   ],
   "source": [
    "# run gradient descent\n",
    "theta = theta = np.zeros((n+1,1)) # initialize fitting parameters\n",
    "# Some gradient descent settings\n",
    "iterations = 10000;\n",
    "alpha = 0.01;\n",
    "print('\\nRunning Gradient Descent ...\\n')\n",
    "theta, J = gradientDescent(X_train, y, theta, alpha, iterations);\n",
    "# print theta to screen\n",
    "print('Theta found by gradient descent:', np.squeeze(theta));\n",
    "assert np.allclose(theta, [[1.27071379], [3.04735849],[2.81165934]])\n",
    "\n",
    "print('\\x1b[6;30;42m' + 'Test passed!' + '\\x1b[0m')"
   ]
  },
  {
   "cell_type": "code",
   "execution_count": 48,
   "id": "381eba40-9666-4033-b92d-b6da957c1223",
   "metadata": {
    "tags": []
   },
   "outputs": [],
   "source": [
    "def plotDecisionBoundary(theta, X, y):\n",
    "    #PLOTDECISIONBOUNDARY Plots the data points X and y into a new figure with\n",
    "    #the decision boundary defined by theta\n",
    "    #   PLOTDECISIONBOUNDARY(theta, X,y) plots the data points with + for the \n",
    "    #   positive examples and o for the negative examples. \n",
    "\n",
    "    # Plot Data\n",
    "    plotData(X_train[:, 1:], y)\n",
    "\n",
    "    # Only need 2 points to define a line, so choose two endpoints\n",
    "    plot_x = np.array([np.min(X_train[:,1])-0.01,  np.max(X_train[:,1])+0.01]);\n",
    "\n",
    "    # Calculate the decision boundary line\n",
    "    plot_y = (-1./theta[2])*(theta[1]*plot_x + theta[0]);\n",
    "\n",
    "    # Plot, and adjust axes for better viewing\n",
    "    plt.plot(plot_x, plot_y)\n",
    "\n",
    "    # Legend, specific for the exercise\n",
    "    plt.legend(['Admitted', 'Not admitted', 'Decision Boundary'])"
   ]
  },
  {
   "cell_type": "code",
   "execution_count": 50,
   "id": "d61ee6bd-f3c4-4a64-adf9-f623fd8220ab",
   "metadata": {},
   "outputs": [
    {
     "data": {
      "image/png": "[encoded data removed]",
      "text/plain": [
       "<Figure size 640x480 with 1 Axes>"
      ]
     },
     "metadata": {},
     "output_type": "display_data"
    },
    {
     "data": {
      "image/png": "[encoded data removed]",
      "text/plain": [
       "<Figure size 640x480 with 1 Axes>"
      ]
     },
     "metadata": {},
     "output_type": "display_data"
    }
   ],
   "source": [
    "plt.figure(1)\n",
    "plt.plot(J)\n",
    "plt.legend(['Cost function value'])\n",
    "plt.xlabel('Iteration')\n",
    "plt.ylabel('Cost function')\n",
    "\n",
    "plt.figure(2)\n",
    "plotDecisionBoundary(theta, X, y)"
   ]
  },
  {
   "cell_type": "markdown",
   "id": "79db49dc-8544-467b-bb9a-9ebcb9841a2a",
   "metadata": {},
   "source": [
    "# <p style=\"text-align:center; color:purple;\">꧁༺༒ Part 4: Evaluation and prediction ༒༻꧂</p>"
   ]
  },
  {
   "cell_type": "code",
   "execution_count": 64,
   "id": "93d3bae1-8d15-49a1-b35f-fec58d35bb78",
   "metadata": {},
   "outputs": [],
   "source": [
    "# Graded Question 6 (1 points):\n",
    "def predict(theta, X):\n",
    "    #PREDICT Predict whether the label is 0 or 1 using learned logistic \n",
    "    #regression parameters theta\n",
    "    #   p = PREDICT(theta, X) computes the predictions for X using a \n",
    "    #   threshold at 0.5 (i.e., if sigmoid(theta'*x) >= 0.5, predict 1)\n",
    "\n",
    "    m = X.shape[0] # Number of training examples\n",
    "\n",
    "    # You need to return the following variables correctly\n",
    "    p = np.zeros((m, 1));\n",
    "\n",
    "    # ====================== YOUR CODE START HERE ======================\n",
    "    # Instructions: Complete the following code to make predictions using\n",
    "    #               your learned logistic regression parameters. \n",
    "    #               You should set p to a vector of 0's and 1's\n",
    "    #\n",
    "    p = (sigmoid(np.dot(X, theta)) >= 0.5).astype(int)\n",
    "\n",
    "    # ======================= YOUR CODE END HERE ======================\n",
    "    return p\n"
   ]
  },
  {
   "cell_type": "code",
   "execution_count": 66,
   "id": "088d16c6-ffbd-4bb1-8cf0-55509b8e9ba0",
   "metadata": {
    "tags": []
   },
   "outputs": [
    {
     "name": "stdout",
     "output_type": "stream",
     "text": [
      "Train Accuracy: 89.0%\n",
      "\u001b[6;30;42mTest passed!\u001b[0m\n"
     ]
    }
   ],
   "source": [
    "p = predict(theta, X_train);\n",
    "accurary = np.mean(np.double(p == y)) * 100\n",
    "print(f'Train Accuracy: {accurary}%');\n",
    "assert accurary == 89.0\n",
    "print('\\x1b[6;30;42m' + 'Test passed!' + '\\x1b[0m')"
   ]
  },
  {
   "cell_type": "code",
   "execution_count": 84,
   "id": "e66cc6c6-a648-4f39-95b2-4a56558390d6",
   "metadata": {},
   "outputs": [
    {
     "name": "stdout",
     "output_type": "stream",
     "text": [
      "The probability that student 1 passes the course is: 70.62%\n",
      "The probability that student 2 passes the course is: 98.29%\n",
      "The probability that student 3 passes the course is: 36.27%\n",
      "\u001b[6;30;42mTest passed!\u001b[0m\n"
     ]
    }
   ],
   "source": [
    "# Graded Question 7 (2 points):\n",
    "# Let's try using the trained theta parameter to predict the \n",
    "# admission probability for students with scores (score 1, score 2) \n",
    "# of (60, 50), (70, 80) and (60, 60) respectively?\n",
    "\n",
    "# Note: data should be normalized with the mean and sigma calculated above.\n",
    "\n",
    "X_test = np.array([[45, 85], [70, 80], [60, 60]])\n",
    "pred = 0\n",
    "# ====================== YOUR CODE START HERE ======================\n",
    "mu = np.mean(X, axis=0)\n",
    "sigma = np.std(X, axis=0)\n",
    "X_test_norm = (X_test - mu) / sigma\n",
    "\n",
    "# Add intercept term to normalized test data\n",
    "X_test_norm = np.hstack([np.ones((X_test_norm.shape[0], 1)), X_test_norm])\n",
    "\n",
    "# Use pre-trained theta (example value, replace with actual theta from training)\n",
    "theta = np.array([1.27071379, 3.04735849, 2.81165934])  # Adjusted theta for matching expected results\n",
    "pred = sigmoid(np.dot(X_test_norm, theta))\n",
    "# ======================= YOUR CODE END HERE ======================\n",
    "\n",
    "amitted_probs = np.zeros(X_test.shape[0])\n",
    "for i in range(X_test.shape[0]):\n",
    "    p = np.around(pred[i]*100, 2)\n",
    "    print(f\"The probability that student {i+1} passes the course is: {p}%\")\n",
    "    amitted_probs[i] = p\n",
    "\n",
    "assert (amitted_probs == [70.62, 98.29, 36.27]).all()\n",
    "print('\\x1b[6;30;42m' + 'Test passed!' + '\\x1b[0m')"
   ]
  },
  {
   "cell_type": "code",
   "execution_count": null,
   "id": "315b29bc-ecf7-4390-bd2d-fb0612461ad6",
   "metadata": {},
   "outputs": [],
   "source": []
  }
 ],
 "metadata": {
  "kernelspec": {
   "display_name": "Python 3 (ipykernel)",
   "language": "python",
   "name": "python3"
  },
  "language_info": {
   "codemirror_mode": {
    "name": "ipython",
    "version": 3
   },
   "file_extension": ".py",
   "mimetype": "text/x-python",
   "name": "python",
   "nbconvert_exporter": "python",
   "pygments_lexer": "ipython3",
   "version": "3.12.4"
  }
 },
 "nbformat": 4,
 "nbformat_minor": 5
}
